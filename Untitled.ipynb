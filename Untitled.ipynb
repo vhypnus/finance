{
 "cells": [
  {
   "cell_type": "code",
   "execution_count": 2,
   "id": "25a2a793-c446-4cb5-9e86-9dbfc23b5400",
   "metadata": {},
   "outputs": [
    {
     "name": "stdout",
     "output_type": "stream",
     "text": [
      "        ts_code  symbol     name  area industry market list_date\n",
      "0     000001.SZ  000001     平安银行    深圳       银行     主板  19910403\n",
      "1     000002.SZ  000002      万科A    深圳     全国地产     主板  19910129\n",
      "2     000004.SZ  000004     国华网安    深圳     软件服务     主板  19910114\n",
      "3     000005.SZ  000005     ST星源    深圳     环境保护     主板  19901210\n",
      "4     000006.SZ  000006     深振业A    深圳     区域地产     主板  19920427\n",
      "...         ...     ...      ...   ...      ...    ...       ...\n",
      "4655  871553.BJ  871553     凯腾精工  None     None    北交所  20210806\n",
      "4656  871642.BJ  871642     通易航天  None     None    北交所  20210816\n",
      "4657  871981.BJ  871981     晶赛科技  None     None    北交所  20211115\n",
      "4658  872925.BJ  872925     锦好医疗  None     None    北交所  20211025\n",
      "4659  689009.SH  689009  九号公司-WD    北京      摩托车    CDR  20201029\n",
      "\n",
      "[4660 rows x 7 columns]\n"
     ]
    }
   ],
   "source": [
    "# 导入tushare\n",
    "import tushare as ts\n",
    "# 初始化pro接口\n",
    "pro = ts.pro_api('fdc27a072940b51721b39e806dec618825cca2de2050bea30984c046')\n",
    "\n",
    "# 拉取数据\n",
    "df = pro.stock_basic(**{\n",
    "    \"ts_code\": \"\",\n",
    "    \"name\": \"\",\n",
    "    \"exchange\": \"\",\n",
    "    \"market\": \"\",\n",
    "    \"is_hs\": \"\",\n",
    "    \"list_status\": \"\",\n",
    "    \"limit\": \"\",\n",
    "    \"offset\": \"\"\n",
    "}, fields=[\n",
    "    \"ts_code\",\n",
    "    \"symbol\",\n",
    "    \"name\",\n",
    "    \"area\",\n",
    "    \"industry\",\n",
    "    \"market\",\n",
    "    \"list_date\"\n",
    "])\n",
    "print(df)"
   ]
  },
  {
   "cell_type": "code",
   "execution_count": 3,
   "id": "6caa0a90-3a6e-45cc-8a15-3d3ada8ea4d7",
   "metadata": {},
   "outputs": [
    {
     "ename": "ModuleNotFoundError",
     "evalue": "No module named 'talib'",
     "output_type": "error",
     "traceback": [
      "\u001b[1;31m---------------------------------------------------------------------------\u001b[0m",
      "\u001b[1;31mModuleNotFoundError\u001b[0m                       Traceback (most recent call last)",
      "\u001b[1;32m<ipython-input-3-1e54e219c291>\u001b[0m in \u001b[0;36m<module>\u001b[1;34m\u001b[0m\n\u001b[0;32m      1\u001b[0m \u001b[1;32mimport\u001b[0m \u001b[0mnumpy\u001b[0m\u001b[1;33m\u001b[0m\u001b[1;33m\u001b[0m\u001b[0m\n\u001b[1;32m----> 2\u001b[1;33m \u001b[1;32mimport\u001b[0m \u001b[0mtalib\u001b[0m\u001b[1;33m\u001b[0m\u001b[1;33m\u001b[0m\u001b[0m\n\u001b[0m\u001b[0;32m      3\u001b[0m \u001b[1;33m\u001b[0m\u001b[0m\n\u001b[0;32m      4\u001b[0m \u001b[0mclose\u001b[0m \u001b[1;33m=\u001b[0m \u001b[0mnumpy\u001b[0m\u001b[1;33m.\u001b[0m\u001b[0mrandom\u001b[0m\u001b[1;33m.\u001b[0m\u001b[0mrandom\u001b[0m\u001b[1;33m(\u001b[0m\u001b[1;36m100\u001b[0m\u001b[1;33m)\u001b[0m\u001b[1;33m\u001b[0m\u001b[1;33m\u001b[0m\u001b[0m\n",
      "\u001b[1;31mModuleNotFoundError\u001b[0m: No module named 'talib'"
     ]
    }
   ],
   "source": [
    "import numpy\n",
    "import talib\n",
    "\n",
    "close = numpy.random.random(100)"
   ]
  },
  {
   "cell_type": "code",
   "execution_count": null,
   "id": "9fbf1c27-c7df-4ec2-940e-fe7e0d0eeb29",
   "metadata": {},
   "outputs": [],
   "source": []
  }
 ],
 "metadata": {
  "kernelspec": {
   "display_name": "Python 3",
   "language": "python",
   "name": "python3"
  },
  "language_info": {
   "codemirror_mode": {
    "name": "ipython",
    "version": 3
   },
   "file_extension": ".py",
   "mimetype": "text/x-python",
   "name": "python",
   "nbconvert_exporter": "python",
   "pygments_lexer": "ipython3",
   "version": "3.9.4"
  }
 },
 "nbformat": 4,
 "nbformat_minor": 5
}
